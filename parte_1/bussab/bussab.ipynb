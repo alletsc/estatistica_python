{
  "nbformat": 4,
  "nbformat_minor": 2,
  "metadata": {
    "colab": {
      "name": "bussab.ipynb",
      "provenance": [],
      "toc_visible": true
    },
    "kernelspec": {
      "name": "python3",
      "display_name": "Python 3.9.6 64-bit"
    },
    "language_info": {
      "name": "python",
      "version": "3.9.6",
      "mimetype": "text/x-python",
      "codemirror_mode": {
        "name": "ipython",
        "version": 3
      },
      "pygments_lexer": "ipython3",
      "nbconvert_exporter": "python",
      "file_extension": ".py"
    },
    "interpreter": {
      "hash": "9262bbce9df8904d0d3b9bbbe589445768d9f5d707fc2cd948c4177acb3d5ef6"
    }
  },
  "cells": [
    {
      "cell_type": "markdown",
      "source": [
        "# Capitulo 2 - Resumo de dados"
      ],
      "metadata": {
        "id": "8HlR4ldoyrw3"
      }
    },
    {
      "cell_type": "code",
      "execution_count": 2,
      "source": [
        "import pandas as pd\r\n"
      ],
      "outputs": [
        {
          "output_type": "stream",
          "name": "stderr",
          "text": [
            "'[var]' is not recognized as an internal or external command,\n",
            "operable program or batch file.\n"
          ]
        }
      ],
      "metadata": {
        "id": "0imotG8Lyp1S"
      }
    },
    {
      "cell_type": "code",
      "execution_count": 4,
      "source": [
        "#importando table e visualizando colunas\r\n",
        "tab21 = pd.read_excel('tab_21.xlsx')\r\n",
        "tab21.columns.values"
      ],
      "outputs": [
        {
          "output_type": "execute_result",
          "data": {
            "text/plain": [
              "array(['N', 'Estado Civil', 'Grau de Instrução', 'N de Filhos',\n",
              "       'Salario (x Sal Min)', 'Anos', 'Meses', 'Região de Procedência'],\n",
              "      dtype=object)"
            ]
          },
          "metadata": {},
          "execution_count": 4
        }
      ],
      "metadata": {
        "colab": {
          "base_uri": "https://localhost:8080/"
        },
        "id": "jJ8CuyUczj9P",
        "outputId": "d85a84e3-5936-4a76-ecfa-1d5cdd162a38"
      }
    },
    {
      "cell_type": "code",
      "execution_count": 5,
      "source": [
        "tab21.head()"
      ],
      "outputs": [
        {
          "output_type": "execute_result",
          "data": {
            "text/html": [
              "<div>\n",
              "<style scoped>\n",
              "    .dataframe tbody tr th:only-of-type {\n",
              "        vertical-align: middle;\n",
              "    }\n",
              "\n",
              "    .dataframe tbody tr th {\n",
              "        vertical-align: top;\n",
              "    }\n",
              "\n",
              "    .dataframe thead th {\n",
              "        text-align: right;\n",
              "    }\n",
              "</style>\n",
              "<table border=\"1\" class=\"dataframe\">\n",
              "  <thead>\n",
              "    <tr style=\"text-align: right;\">\n",
              "      <th></th>\n",
              "      <th>N</th>\n",
              "      <th>Estado Civil</th>\n",
              "      <th>Grau de Instrução</th>\n",
              "      <th>N de Filhos</th>\n",
              "      <th>Salario (x Sal Min)</th>\n",
              "      <th>Anos</th>\n",
              "      <th>Meses</th>\n",
              "      <th>Região de Procedência</th>\n",
              "    </tr>\n",
              "  </thead>\n",
              "  <tbody>\n",
              "    <tr>\n",
              "      <th>0</th>\n",
              "      <td>1</td>\n",
              "      <td>solteiro</td>\n",
              "      <td>ensino fundamental</td>\n",
              "      <td>NaN</td>\n",
              "      <td>4.00</td>\n",
              "      <td>26</td>\n",
              "      <td>3</td>\n",
              "      <td>interior</td>\n",
              "    </tr>\n",
              "    <tr>\n",
              "      <th>1</th>\n",
              "      <td>2</td>\n",
              "      <td>casado</td>\n",
              "      <td>ensino fundamental</td>\n",
              "      <td>1.0</td>\n",
              "      <td>4.56</td>\n",
              "      <td>32</td>\n",
              "      <td>10</td>\n",
              "      <td>capital</td>\n",
              "    </tr>\n",
              "    <tr>\n",
              "      <th>2</th>\n",
              "      <td>3</td>\n",
              "      <td>casado</td>\n",
              "      <td>ensino fundamental</td>\n",
              "      <td>2.0</td>\n",
              "      <td>5.25</td>\n",
              "      <td>36</td>\n",
              "      <td>5</td>\n",
              "      <td>capital</td>\n",
              "    </tr>\n",
              "    <tr>\n",
              "      <th>3</th>\n",
              "      <td>4</td>\n",
              "      <td>solteiro</td>\n",
              "      <td>ensino médio</td>\n",
              "      <td>NaN</td>\n",
              "      <td>5.73</td>\n",
              "      <td>20</td>\n",
              "      <td>10</td>\n",
              "      <td>outra</td>\n",
              "    </tr>\n",
              "    <tr>\n",
              "      <th>4</th>\n",
              "      <td>5</td>\n",
              "      <td>solteiro</td>\n",
              "      <td>ensino fundamental</td>\n",
              "      <td>NaN</td>\n",
              "      <td>6.26</td>\n",
              "      <td>40</td>\n",
              "      <td>7</td>\n",
              "      <td>outra</td>\n",
              "    </tr>\n",
              "  </tbody>\n",
              "</table>\n",
              "</div>"
            ],
            "text/plain": [
              "   N Estado Civil   Grau de Instrução  N de Filhos  Salario (x Sal Min)  Anos  \\\n",
              "0  1     solteiro  ensino fundamental          NaN                 4.00    26   \n",
              "1  2       casado  ensino fundamental          1.0                 4.56    32   \n",
              "2  3       casado  ensino fundamental          2.0                 5.25    36   \n",
              "3  4     solteiro        ensino médio          NaN                 5.73    20   \n",
              "4  5     solteiro  ensino fundamental          NaN                 6.26    40   \n",
              "\n",
              "   Meses Região de Procedência  \n",
              "0      3              interior  \n",
              "1     10               capital  \n",
              "2      5               capital  \n",
              "3     10                 outra  \n",
              "4      7                 outra  "
            ]
          },
          "metadata": {},
          "execution_count": 5
        }
      ],
      "metadata": {
        "colab": {
          "base_uri": "https://localhost:8080/",
          "height": 204
        },
        "id": "Sy5Jw0_Q2-wP",
        "outputId": "61e28216-c87e-4d9d-c290-428817fae061"
      }
    },
    {
      "cell_type": "code",
      "execution_count": 6,
      "source": [
        "tab21.info()"
      ],
      "outputs": [
        {
          "output_type": "stream",
          "name": "stdout",
          "text": [
            "<class 'pandas.core.frame.DataFrame'>\n",
            "RangeIndex: 36 entries, 0 to 35\n",
            "Data columns (total 8 columns):\n",
            " #   Column                 Non-Null Count  Dtype  \n",
            "---  ------                 --------------  -----  \n",
            " 0   N                      36 non-null     int64  \n",
            " 1   Estado Civil           36 non-null     object \n",
            " 2   Grau de Instrução      36 non-null     object \n",
            " 3   N de Filhos            20 non-null     float64\n",
            " 4   Salario (x Sal Min)    36 non-null     float64\n",
            " 5   Anos                   36 non-null     int64  \n",
            " 6   Meses                  36 non-null     int64  \n",
            " 7   Região de Procedência  36 non-null     object \n",
            "dtypes: float64(2), int64(3), object(3)\n",
            "memory usage: 2.4+ KB\n"
          ]
        }
      ],
      "metadata": {
        "colab": {
          "base_uri": "https://localhost:8080/"
        },
        "id": "-IEZ1AZU4lgA",
        "outputId": "5d20418c-8e67-440b-dcfe-8704daead9e0"
      }
    },
    {
      "cell_type": "code",
      "execution_count": null,
      "source": [],
      "outputs": [],
      "metadata": {}
    }
  ]
}