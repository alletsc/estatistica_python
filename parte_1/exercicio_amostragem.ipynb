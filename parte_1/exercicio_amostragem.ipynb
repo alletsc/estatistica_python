{
 "cells": [
  {
   "cell_type": "code",
   "execution_count": 21,
   "source": [
    "import pandas as pd\r\n",
    "import numpy as np\r\n",
    "import random\r\n",
    "from sklearn.model_selection import StratifiedShuffleSplit\r\n"
   ],
   "outputs": [],
   "metadata": {}
  },
  {
   "cell_type": "code",
   "execution_count": 9,
   "source": [
    "data = pd.read_csv(\"credit_data.csv\")\r\n",
    "data.info()"
   ],
   "outputs": [
    {
     "output_type": "stream",
     "name": "stdout",
     "text": [
      "<class 'pandas.core.frame.DataFrame'>\n",
      "RangeIndex: 2000 entries, 0 to 1999\n",
      "Data columns (total 5 columns):\n",
      " #   Column      Non-Null Count  Dtype  \n",
      "---  ------      --------------  -----  \n",
      " 0   i#clientid  2000 non-null   int64  \n",
      " 1   income      2000 non-null   float64\n",
      " 2   age         1997 non-null   float64\n",
      " 3   loan        2000 non-null   float64\n",
      " 4   c#default   2000 non-null   int64  \n",
      "dtypes: float64(3), int64(2)\n",
      "memory usage: 78.2 KB\n"
     ]
    }
   ],
   "metadata": {}
  },
  {
   "cell_type": "code",
   "execution_count": 38,
   "source": [
    "data.head(-1)"
   ],
   "outputs": [
    {
     "output_type": "execute_result",
     "data": {
      "text/html": [
       "<div>\n",
       "<style scoped>\n",
       "    .dataframe tbody tr th:only-of-type {\n",
       "        vertical-align: middle;\n",
       "    }\n",
       "\n",
       "    .dataframe tbody tr th {\n",
       "        vertical-align: top;\n",
       "    }\n",
       "\n",
       "    .dataframe thead th {\n",
       "        text-align: right;\n",
       "    }\n",
       "</style>\n",
       "<table border=\"1\" class=\"dataframe\">\n",
       "  <thead>\n",
       "    <tr style=\"text-align: right;\">\n",
       "      <th></th>\n",
       "      <th>i#clientid</th>\n",
       "      <th>income</th>\n",
       "      <th>age</th>\n",
       "      <th>loan</th>\n",
       "      <th>c#default</th>\n",
       "      <th>grupo</th>\n",
       "    </tr>\n",
       "  </thead>\n",
       "  <tbody>\n",
       "    <tr>\n",
       "      <th>0</th>\n",
       "      <td>1</td>\n",
       "      <td>66155.925095</td>\n",
       "      <td>59.017015</td>\n",
       "      <td>8106.532131</td>\n",
       "      <td>0</td>\n",
       "      <td>0</td>\n",
       "    </tr>\n",
       "    <tr>\n",
       "      <th>1</th>\n",
       "      <td>2</td>\n",
       "      <td>34415.153966</td>\n",
       "      <td>48.117153</td>\n",
       "      <td>6564.745018</td>\n",
       "      <td>0</td>\n",
       "      <td>0</td>\n",
       "    </tr>\n",
       "    <tr>\n",
       "      <th>2</th>\n",
       "      <td>3</td>\n",
       "      <td>57317.170063</td>\n",
       "      <td>63.108049</td>\n",
       "      <td>8020.953296</td>\n",
       "      <td>0</td>\n",
       "      <td>0</td>\n",
       "    </tr>\n",
       "    <tr>\n",
       "      <th>3</th>\n",
       "      <td>4</td>\n",
       "      <td>42709.534201</td>\n",
       "      <td>45.751972</td>\n",
       "      <td>6103.642260</td>\n",
       "      <td>0</td>\n",
       "      <td>1</td>\n",
       "    </tr>\n",
       "    <tr>\n",
       "      <th>4</th>\n",
       "      <td>5</td>\n",
       "      <td>66952.688845</td>\n",
       "      <td>18.584336</td>\n",
       "      <td>8770.099235</td>\n",
       "      <td>1</td>\n",
       "      <td>1</td>\n",
       "    </tr>\n",
       "    <tr>\n",
       "      <th>...</th>\n",
       "      <td>...</td>\n",
       "      <td>...</td>\n",
       "      <td>...</td>\n",
       "      <td>...</td>\n",
       "      <td>...</td>\n",
       "      <td>...</td>\n",
       "    </tr>\n",
       "    <tr>\n",
       "      <th>1994</th>\n",
       "      <td>1995</td>\n",
       "      <td>24254.700791</td>\n",
       "      <td>37.751622</td>\n",
       "      <td>2225.284643</td>\n",
       "      <td>0</td>\n",
       "      <td>664</td>\n",
       "    </tr>\n",
       "    <tr>\n",
       "      <th>1995</th>\n",
       "      <td>1996</td>\n",
       "      <td>59221.044874</td>\n",
       "      <td>48.518179</td>\n",
       "      <td>1926.729397</td>\n",
       "      <td>0</td>\n",
       "      <td>665</td>\n",
       "    </tr>\n",
       "    <tr>\n",
       "      <th>1996</th>\n",
       "      <td>1997</td>\n",
       "      <td>69516.127573</td>\n",
       "      <td>23.162104</td>\n",
       "      <td>3503.176156</td>\n",
       "      <td>0</td>\n",
       "      <td>665</td>\n",
       "    </tr>\n",
       "    <tr>\n",
       "      <th>1997</th>\n",
       "      <td>1998</td>\n",
       "      <td>44311.449262</td>\n",
       "      <td>28.017167</td>\n",
       "      <td>5522.786693</td>\n",
       "      <td>1</td>\n",
       "      <td>665</td>\n",
       "    </tr>\n",
       "    <tr>\n",
       "      <th>1998</th>\n",
       "      <td>1999</td>\n",
       "      <td>43756.056605</td>\n",
       "      <td>63.971796</td>\n",
       "      <td>1622.722598</td>\n",
       "      <td>0</td>\n",
       "      <td>666</td>\n",
       "    </tr>\n",
       "  </tbody>\n",
       "</table>\n",
       "<p>1999 rows × 6 columns</p>\n",
       "</div>"
      ],
      "text/plain": [
       "      i#clientid        income        age         loan  c#default  grupo\n",
       "0              1  66155.925095  59.017015  8106.532131          0      0\n",
       "1              2  34415.153966  48.117153  6564.745018          0      0\n",
       "2              3  57317.170063  63.108049  8020.953296          0      0\n",
       "3              4  42709.534201  45.751972  6103.642260          0      1\n",
       "4              5  66952.688845  18.584336  8770.099235          1      1\n",
       "...          ...           ...        ...          ...        ...    ...\n",
       "1994        1995  24254.700791  37.751622  2225.284643          0    664\n",
       "1995        1996  59221.044874  48.518179  1926.729397          0    665\n",
       "1996        1997  69516.127573  23.162104  3503.176156          0    665\n",
       "1997        1998  44311.449262  28.017167  5522.786693          1    665\n",
       "1998        1999  43756.056605  63.971796  1622.722598          0    666\n",
       "\n",
       "[1999 rows x 6 columns]"
      ]
     },
     "metadata": {},
     "execution_count": 38
    }
   ],
   "metadata": {}
  },
  {
   "cell_type": "code",
   "execution_count": 40,
   "source": [
    "def amostra_aleatoria_simples(data, n_amostras):\r\n",
    "    return data.sample(n = n_amostras, random_state = 1)\r\n",
    "\r\n",
    "df_aas = amostra_aleatoria_simples(data, 1000)\r\n",
    "df_aas.shape"
   ],
   "outputs": [
    {
     "output_type": "execute_result",
     "data": {
      "text/plain": [
       "(1000, 6)"
      ]
     },
     "metadata": {},
     "execution_count": 40
    }
   ],
   "metadata": {}
  },
  {
   "cell_type": "code",
   "execution_count": 41,
   "source": [
    "def amostra_sistematica(data, n_amostras):\r\n",
    "    passo = len(data) // n_amostras\r\n",
    "    random.seed(1)\r\n",
    "    inicio = random.randint(0, passo)\r\n",
    "    indices = np.arange(inicio, len(data), step = passo)\r\n",
    "    amostra_sistematica = data.iloc[indices]\r\n",
    "    return amostra_sistematica\r\n",
    "\r\n",
    "df_amostra_sist = amostra_sistematica(data, 1000)\r\n",
    "df_amostra_sist.shape"
   ],
   "outputs": [
    {
     "output_type": "execute_result",
     "data": {
      "text/plain": [
       "(1000, 6)"
      ]
     },
     "metadata": {},
     "execution_count": 41
    }
   ],
   "metadata": {}
  },
  {
   "cell_type": "code",
   "execution_count": 45,
   "source": [
    "def amostragem_grupo(data, num_grupos):\r\n",
    "    intervalo = len(data) // num_grupos\r\n",
    "    grupos = []\r\n",
    "    id_grupo = 0\r\n",
    "    cont = 0\r\n",
    "    for _ in data.iterrows():\r\n",
    "        grupos.append(id_grupo)\r\n",
    "        cont += 1\r\n",
    "        if cont > intervalo:\r\n",
    "            cont = 0\r\n",
    "            id_grupo += 1          \r\n",
    "    data['grupo'] = grupos\r\n",
    "    grupo_selecao = random.randint(0, num_grupos)\r\n",
    "    return data[data['grupo'] == grupo_selecao]\r\n",
    "\r\n",
    "df_amostra_grupo = amostragem_grupo(data, 2)\r\n",
    "df_amostra_grupo['grupo'].value_counts"
   ],
   "outputs": [
    {
     "output_type": "execute_result",
     "data": {
      "text/plain": [
       "<bound method IndexOpsMixin.value_counts of 1001    1\n",
       "1002    1\n",
       "1003    1\n",
       "1004    1\n",
       "1005    1\n",
       "       ..\n",
       "1995    1\n",
       "1996    1\n",
       "1997    1\n",
       "1998    1\n",
       "1999    1\n",
       "Name: grupo, Length: 999, dtype: int64>"
      ]
     },
     "metadata": {},
     "execution_count": 45
    }
   ],
   "metadata": {}
  },
  {
   "cell_type": "code",
   "execution_count": 46,
   "source": [
    "amostra_grupo.head()"
   ],
   "outputs": [
    {
     "output_type": "execute_result",
     "data": {
      "text/html": [
       "<div>\n",
       "<style scoped>\n",
       "    .dataframe tbody tr th:only-of-type {\n",
       "        vertical-align: middle;\n",
       "    }\n",
       "\n",
       "    .dataframe tbody tr th {\n",
       "        vertical-align: top;\n",
       "    }\n",
       "\n",
       "    .dataframe thead th {\n",
       "        text-align: right;\n",
       "    }\n",
       "</style>\n",
       "<table border=\"1\" class=\"dataframe\">\n",
       "  <thead>\n",
       "    <tr style=\"text-align: right;\">\n",
       "      <th></th>\n",
       "      <th>i#clientid</th>\n",
       "      <th>income</th>\n",
       "      <th>age</th>\n",
       "      <th>loan</th>\n",
       "      <th>c#default</th>\n",
       "      <th>grupo</th>\n",
       "    </tr>\n",
       "  </thead>\n",
       "  <tbody>\n",
       "    <tr>\n",
       "      <th>783</th>\n",
       "      <td>784</td>\n",
       "      <td>36029.301577</td>\n",
       "      <td>52.640624</td>\n",
       "      <td>2928.100439</td>\n",
       "      <td>0</td>\n",
       "      <td>261</td>\n",
       "    </tr>\n",
       "    <tr>\n",
       "      <th>784</th>\n",
       "      <td>785</td>\n",
       "      <td>48457.963548</td>\n",
       "      <td>22.344924</td>\n",
       "      <td>8108.172683</td>\n",
       "      <td>1</td>\n",
       "      <td>261</td>\n",
       "    </tr>\n",
       "    <tr>\n",
       "      <th>785</th>\n",
       "      <td>786</td>\n",
       "      <td>46038.510655</td>\n",
       "      <td>39.038673</td>\n",
       "      <td>6868.987805</td>\n",
       "      <td>0</td>\n",
       "      <td>261</td>\n",
       "    </tr>\n",
       "  </tbody>\n",
       "</table>\n",
       "</div>"
      ],
      "text/plain": [
       "     i#clientid        income        age         loan  c#default  grupo\n",
       "783         784  36029.301577  52.640624  2928.100439          0    261\n",
       "784         785  48457.963548  22.344924  8108.172683          1    261\n",
       "785         786  46038.510655  39.038673  6868.987805          0    261"
      ]
     },
     "metadata": {},
     "execution_count": 46
    }
   ],
   "metadata": {}
  },
  {
   "cell_type": "code",
   "execution_count": 49,
   "source": [
    "def amostragem_estratificada (data, percentual, campo):\r\n",
    "    split = StratifiedShuffleSplit(test_size=percentual, random_state=1)\r\n",
    "    for _, y in split.split(data, data[campo]):\r\n",
    "        df_y = data.iloc[y]\r\n",
    "    return df_y\r\n",
    "\r\n",
    "df_amostra_estratif = amostragem_estratificada(data, 0.5, 'c#default')\r\n",
    "df_amostra_estratif.shape"
   ],
   "outputs": [
    {
     "output_type": "execute_result",
     "data": {
      "text/plain": [
       "(1000, 6)"
      ]
     },
     "metadata": {},
     "execution_count": 49
    }
   ],
   "metadata": {}
  },
  {
   "cell_type": "code",
   "execution_count": 51,
   "source": [
    "def amostragem_reservatorio(dataset, amostras):\r\n",
    "  stream = []\r\n",
    "  for i in range(len(dataset)):\r\n",
    "    stream.append(i)\r\n",
    "\r\n",
    "  i = 0\r\n",
    "  tamanho = len(dataset)\r\n",
    "\r\n",
    "  reservatorio = [0] * amostras\r\n",
    "  for i in range(amostras):\r\n",
    "    reservatorio[i] = stream[i]\r\n",
    "\r\n",
    "  while (i < tamanho):\r\n",
    "    j = random.randrange(i + 1)\r\n",
    "    if (j < amostras):\r\n",
    "      reservatorio[j] = stream[i]\r\n",
    "    i += 1\r\n",
    "\r\n",
    "  return dataset.iloc[reservatorio]\r\n",
    "\r\n",
    "df_amostra_reserv = amostragem_reservatorio(data, 1000)\r\n",
    "df_amostra_reserv.shape"
   ],
   "outputs": [
    {
     "output_type": "execute_result",
     "data": {
      "text/plain": [
       "(1000, 6)"
      ]
     },
     "metadata": {},
     "execution_count": 51
    }
   ],
   "metadata": {}
  },
  {
   "cell_type": "code",
   "execution_count": 52,
   "source": [
    "print(data['age'].mean(), data['income'].mean(),\r\n",
    "      data['loan'].mean())\r\n"
   ],
   "outputs": [
    {
     "output_type": "stream",
     "name": "stdout",
     "text": [
      "40.80755937840458 45331.60001779333 4444.369694688262\n"
     ]
    }
   ],
   "metadata": {}
  },
  {
   "cell_type": "code",
   "execution_count": 34,
   "source": [
    "print(df_aas['age'].mean(),\r\n",
    "df_aas['income'].mean(),\r\n",
    "df_aas['loan'].mean())\r\n",
    "\r\n",
    "\r\n"
   ],
   "outputs": [
    {
     "output_type": "stream",
     "name": "stdout",
     "text": [
      "40.49552561124429 45563.26865376901 4449.4469004423645\n"
     ]
    }
   ],
   "metadata": {}
  },
  {
   "cell_type": "code",
   "execution_count": 35,
   "source": [
    "print(df_amostra_grupo['age'].mean(),\r\n",
    "df_aas['income'].mean(),\r\n",
    "df_aas['loan'].mean())"
   ],
   "outputs": [
    {
     "output_type": "stream",
     "name": "stdout",
     "text": [
      "34.852124052743136 45563.26865376901 4449.4469004423645\n"
     ]
    }
   ],
   "metadata": {}
  },
  {
   "cell_type": "code",
   "execution_count": 36,
   "source": [
    "print(df_amostra_sist['age'].mean(),\r\n",
    "      df_aas['income'].mean(),\r\n",
    "      df_aas['loan'].mean())\r\n"
   ],
   "outputs": [
    {
     "output_type": "stream",
     "name": "stdout",
     "text": [
      "40.91117381141754 45563.26865376901 4449.4469004423645\n"
     ]
    }
   ],
   "metadata": {}
  },
  {
   "cell_type": "code",
   "execution_count": 37,
   "source": [
    "print(df_amostra_estratif['age'].mean(),\r\n",
    "      df_aas['income'].mean(),\r\n",
    "      df_aas['loan'].mean())\r\n"
   ],
   "outputs": [
    {
     "output_type": "stream",
     "name": "stdout",
     "text": [
      "40.53363707173919 45563.26865376901 4449.4469004423645\n"
     ]
    }
   ],
   "metadata": {}
  }
 ],
 "metadata": {
  "orig_nbformat": 4,
  "language_info": {
   "name": "python",
   "version": "3.8.8",
   "mimetype": "text/x-python",
   "codemirror_mode": {
    "name": "ipython",
    "version": 3
   },
   "pygments_lexer": "ipython3",
   "nbconvert_exporter": "python",
   "file_extension": ".py"
  },
  "kernelspec": {
   "name": "python3",
   "display_name": "Python 3.8.8 64-bit"
  },
  "interpreter": {
   "hash": "e266f4c7026234dbf54e67791e35511425040133719230235b4c05bf7469a0c0"
  }
 },
 "nbformat": 4,
 "nbformat_minor": 2
}